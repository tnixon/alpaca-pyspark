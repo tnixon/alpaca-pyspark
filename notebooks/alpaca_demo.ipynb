{
 "cells": [
  {
   "cell_type": "markdown",
   "id": "cell-0",
   "metadata": {},
   "source": [
    "# Alpaca PySpark Connector Demonstration\n",
    "\n",
    "This notebook demonstrates how to use the Alpaca Historical Bars PySpark Connector to fetch and analyze stock market data using distributed computation.\n",
    "\n",
    "## Prerequisites\n",
    "\n",
    "1. **Alpaca API Credentials**: You need an Alpaca account and API credentials\n",
    "   - Sign up at [Alpaca](https://alpaca.markets/)\n",
    "   - Generate API keys from your dashboard\n",
    "   - Set environment variables `ALPACA_API_KEY` and `ALPACA_SECRET_KEY`\n",
    "\n",
    "2. **Required Libraries**: This notebook requires PySpark, requests, and visualization libraries"
   ]
  },
  {
   "cell_type": "code",
   "execution_count": null,
   "id": "cell-1",
   "metadata": {},
   "outputs": [],
   "source": [
    "# Install required packages (uncomment if running in a fresh environment)\n",
    "# !pip install pyspark requests matplotlib seaborn pandas\n",
    "\n",
    "import os\n",
    "import warnings\n",
    "from datetime import datetime, timedelta\n",
    "\n",
    "# Suppress Spark warnings for cleaner output\n",
    "warnings.filterwarnings('ignore')\n",
    "os.environ['PYSPARK_SUBMIT_ARGS'] = '--packages org.apache.spark:spark-sql_2.12:3.5.0 pyspark-shell'"
   ]
  },
  {
   "cell_type": "markdown",
   "id": "cell-2",
   "metadata": {},
   "source": [
    "## Setup Spark Session and Connector\n",
    "\n",
    "First, we'll initialize a Spark session and create our Alpaca connector."
   ]
  },
  {
   "cell_type": "code",
   "execution_count": null,
   "id": "cell-3",
   "metadata": {},
   "outputs": [],
   "source": [
    "from pyspark.sql import SparkSession\n",
    "from alpaca_pyspark.alpaca_connector import create_connector\n",
    "\n",
    "# Create Spark session with optimized configuration\n",
    "spark = SparkSession.builder \\\n",
    "    .appName(\"AlpacaHistoricalBarsDemo\") \\\n",
    "    .config(\"spark.sql.adaptive.enabled\", \"true\") \\\n",
    "    .config(\"spark.sql.adaptive.coalescePartitions.enabled\", \"true\") \\\n",
    "    .getOrCreate()\n",
    "\n",
    "# Set log level to reduce verbose output\n",
    "spark.sparkContext.setLogLevel(\"WARN\")\n",
    "\n",
    "print(f\"Spark version: {spark.version}\")\n",
    "print(f\"Number of cores available: {spark.sparkContext.defaultParallelism}\")"
   ]
  },
  {
   "cell_type": "code",
   "execution_count": null,
   "id": "cell-4",
   "metadata": {},
   "outputs": [],
   "source": [
    "# Create the Alpaca connector\n",
    "# Note: Make sure ALPACA_API_KEY and ALPACA_SECRET_KEY environment variables are set\n",
    "# For demonstration purposes, you can also pass them directly:\n",
    "# connector = create_connector(spark, api_key=\"your_key\", api_secret=\"your_secret\")\n",
    "\n",
    "connector = create_connector(\n",
    "    spark,\n",
    "    # Optional: customize configuration\n",
    "    page_size=10000,  # Maximum records per API call\n",
    "    date_split_days=30,  # Split date ranges into chunks of this many days\n",
    "    max_retries=3,  # Number of retry attempts for failed requests\n",
    "    timeout=30  # Request timeout in seconds\n",
    ")\n",
    "\n",
    "# Test connection\n",
    "if connector.validate_connection():\n",
    "    print(\"✅ Successfully connected to Alpaca API\")\n",
    "else:\n",
    "    print(\"❌ Failed to connect to Alpaca API\")\n",
    "    print(\"Please check your API credentials and network connection\")"
   ]
  },
  {
   "cell_type": "markdown",
   "id": "cell-5",
   "metadata": {},
   "source": [
    "## Summary and Next Steps\n",
    "\n",
    "This notebook demonstrated the key features of the Alpaca PySpark Connector:\n",
    "\n",
    "### 📚 Resources:\n",
    "- [Alpaca API Documentation](https://docs.alpaca.markets/)\n",
    "- [PySpark SQL Guide](https://spark.apache.org/docs/latest/sql-programming-guide.html)\n",
    "- [Connector Source Code](../alpaca_pyspark/alpaca_connector.py)\n",
    "- [Test Suite](../tests/test_alpaca_connector.py)"
   ]
  },
  {
   "cell_type": "code",
   "execution_count": null,
   "id": "cell-6",
   "metadata": {},
   "outputs": [],
   "source": [
    "# Clean up Spark session\n",
    "print(\"🧹 Cleaning up Spark session...\")\n",
    "spark.stop()\n",
    "print(\"✅ Spark session stopped successfully\")"
   ]
  }
 ],
 "metadata": {
  "kernelspec": {
   "display_name": "Python 3 (ipykernel)",
   "language": "python",
   "name": "python3"
  },
  "language_info": {
   "codemirror_mode": {
    "name": "ipython",
    "version": 3
   },
   "file_extension": ".py",
   "mimetype": "text/x-python",
   "name": "python",
   "nbconvert_exporter": "python",
   "pygments_lexer": "ipython3",
   "version": "3.9.12"
  }
 },
 "nbformat": 4,
 "nbformat_minor": 5
}