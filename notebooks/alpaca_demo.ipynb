{
 "cells": [
  {
   "cell_type": "markdown",
   "id": "cell-0",
   "metadata": {},
   "source": [
    "# Alpaca PySpark Connector Demonstration\n",
    "\n",
    "This notebook demonstrates how to use the Alpaca Historical Bars PySpark Connector to fetch and analyze stock market data using distributed computation.\n",
    "\n",
    "## Prerequisites\n",
    "\n",
    "1. **Alpaca API Credentials**: You need an Alpaca account and API credentials\n",
    "   - Sign up at [Alpaca](https://alpaca.markets/)\n",
    "   - Generate API keys from your dashboard\n",
    "   - Set environment variables `ALPACA_API_KEY` and `ALPACA_SECRET_KEY`\n",
    "\n",
    "2. **Required Libraries**: This notebook requires PySpark, requests, and visualization libraries"
   ]
  },
  {
   "cell_type": "code",
   "id": "cell-1",
   "metadata": {
    "ExecuteTime": {
     "end_time": "2025-08-12T05:12:43.057849Z",
     "start_time": "2025-08-12T05:12:43.048996Z"
    }
   },
   "source": [
    "# Install required packages (uncomment if running in a fresh environment)\n",
    "# !pip install pyspark requests matplotlib seaborn pandas\n",
    "\n",
    "import os\n",
    "import warnings\n",
    "from dotenv import load_dotenv\n",
    "from datetime import datetime, timedelta\n",
    "\n",
    "# Suppress Spark warnings for cleaner output\n",
    "load_dotenv()  # Load environment variables from .env file\n",
    "warnings.filterwarnings('ignore')\n",
    "os.environ['PYSPARK_SUBMIT_ARGS'] = '--packages org.apache.spark:spark-sql_2.12:3.5.0 pyspark-shell'"
   ],
   "outputs": [],
   "execution_count": 4
  },
  {
   "cell_type": "markdown",
   "id": "cell-2",
   "metadata": {},
   "source": [
    "## Setup Spark Session and Connector\n",
    "\n",
    "First, we'll initialize a Spark session and create our Alpaca connector."
   ]
  },
  {
   "cell_type": "code",
   "id": "cell-3",
   "metadata": {
    "ExecuteTime": {
     "end_time": "2025-08-12T05:09:47.908246Z",
     "start_time": "2025-08-12T05:09:44.903079Z"
    }
   },
   "source": [
    "from pyspark.sql import SparkSession\n",
    "from alpaca_pyspark.alpaca_connector import create_connector\n",
    "\n",
    "# Create Spark session with optimized configuration\n",
    "spark = SparkSession.builder \\\n",
    "    .appName(\"AlpacaHistoricalBarsDemo\") \\\n",
    "    .config(\"spark.sql.adaptive.enabled\", \"true\") \\\n",
    "    .config(\"spark.sql.adaptive.coalescePartitions.enabled\", \"true\") \\\n",
    "    .getOrCreate()\n",
    "\n",
    "# Set log level to reduce verbose output\n",
    "spark.sparkContext.setLogLevel(\"WARN\")\n",
    "\n",
    "print(f\"Spark version: {spark.version}\")\n",
    "print(f\"Number of cores available: {spark.sparkContext.defaultParallelism}\")"
   ],
   "outputs": [
    {
     "name": "stderr",
     "output_type": "stream",
     "text": [
      "WARNING: Using incubator modules: jdk.incubator.vector\n",
      "Using Spark's default log4j profile: org/apache/spark/log4j2-defaults.properties\n",
      "25/08/11 22:09:45 WARN Utils: Your hostname, Tristans-MacBook-Pro-222.local, resolves to a loopback address: 127.0.0.1; using 192.168.68.59 instead (on interface en0)\n",
      "25/08/11 22:09:45 WARN Utils: Set SPARK_LOCAL_IP if you need to bind to another address\n",
      "Using Spark's default log4j profile: org/apache/spark/log4j2-defaults.properties\n",
      "Setting default log level to \"WARN\".\n",
      "To adjust logging level use sc.setLogLevel(newLevel). For SparkR, use setLogLevel(newLevel).\n",
      "25/08/11 22:09:46 WARN NativeCodeLoader: Unable to load native-hadoop library for your platform... using builtin-java classes where applicable\n"
     ]
    },
    {
     "name": "stdout",
     "output_type": "stream",
     "text": [
      "Spark version: 4.0.0\n",
      "Number of cores available: 10\n"
     ]
    }
   ],
   "execution_count": 1
  },
  {
   "cell_type": "code",
   "id": "cell-4",
   "metadata": {
    "ExecuteTime": {
     "end_time": "2025-08-12T05:12:57.857222Z",
     "start_time": "2025-08-12T05:12:57.456381Z"
    }
   },
   "source": [
    "# Create the Alpaca connector\n",
    "# Note: Make sure ALPACA_API_KEY and ALPACA_SECRET_KEY environment variables are set\n",
    "# For demonstration purposes, you can also pass them directly:\n",
    "# connector = create_connector(spark, api_key=\"your_key\", api_secret=\"your_secret\")\n",
    "\n",
    "connector = create_connector(\n",
    "    spark,\n",
    "    # Optional: customize configuration\n",
    "    page_size=10000,  # Maximum records per API call\n",
    "    date_split_days=30,  # Split date ranges into chunks of this many days\n",
    "    max_retries=3,  # Number of retry attempts for failed requests\n",
    "    timeout=30  # Request timeout in seconds\n",
    ")\n",
    "\n",
    "# Test connection\n",
    "if connector.validate_connection():\n",
    "    print(\"✅ Successfully connected to Alpaca API\")\n",
    "else:\n",
    "    print(\"❌ Failed to connect to Alpaca API\")\n",
    "    print(\"Please check your API credentials and network connection\")"
   ],
   "outputs": [
    {
     "name": "stderr",
     "output_type": "stream",
     "text": [
      "INFO:alpaca_pyspark.alpaca_connector:Connection to Alpaca API successful\n"
     ]
    },
    {
     "name": "stdout",
     "output_type": "stream",
     "text": [
      "✅ Successfully connected to Alpaca API\n"
     ]
    }
   ],
   "execution_count": 6
  },
  {
   "cell_type": "markdown",
   "id": "cell-5",
   "metadata": {},
   "source": [
    "## Summary and Next Steps\n",
    "\n",
    "This notebook demonstrated the key features of the Alpaca PySpark Connector:\n",
    "\n",
    "### 📚 Resources:\n",
    "- [Alpaca API Documentation](https://docs.alpaca.markets/)\n",
    "- [PySpark SQL Guide](https://spark.apache.org/docs/latest/sql-programming-guide.html)\n",
    "- [Connector Source Code](../alpaca_pyspark/alpaca_connector.py)\n",
    "- [Test Suite](../tests/test_alpaca_connector.py)"
   ]
  },
  {
   "cell_type": "code",
   "id": "cell-6",
   "metadata": {
    "ExecuteTime": {
     "end_time": "2025-08-12T05:14:07.981611Z",
     "start_time": "2025-08-12T05:14:07.607458Z"
    }
   },
   "source": [
    "# Clean up Spark session\n",
    "print(\"🧹 Cleaning up Spark session...\")\n",
    "spark.stop()\n",
    "print(\"✅ Spark session stopped successfully\")"
   ],
   "outputs": [
    {
     "name": "stdout",
     "output_type": "stream",
     "text": [
      "🧹 Cleaning up Spark session...\n",
      "✅ Spark session stopped successfully\n"
     ]
    }
   ],
   "execution_count": 7
  }
 ],
 "metadata": {
  "kernelspec": {
   "display_name": "Python 3 (ipykernel)",
   "language": "python",
   "name": "python3"
  },
  "language_info": {
   "codemirror_mode": {
    "name": "ipython",
    "version": 3
   },
   "file_extension": ".py",
   "mimetype": "text/x-python",
   "name": "python",
   "nbconvert_exporter": "python",
   "pygments_lexer": "ipython3",
   "version": "3.9.12"
  }
 },
 "nbformat": 4,
 "nbformat_minor": 5
}
